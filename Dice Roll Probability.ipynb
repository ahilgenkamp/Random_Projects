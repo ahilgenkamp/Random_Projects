{
 "cells": [
  {
   "cell_type": "code",
   "execution_count": 1,
   "metadata": {},
   "outputs": [],
   "source": [
    "# load packages\n",
    "from random import randint\n",
    "import matplotlib as plt\n",
    "%matplotlib inline"
   ]
  },
  {
   "cell_type": "code",
   "execution_count": 8,
   "metadata": {},
   "outputs": [],
   "source": [
    "# random dice roll\n",
    "def roll_dice():\n",
    "    d1 = randint(1, 6)\n",
    "    d2 = randint(1, 6)\n",
    "    return (d1, d2)\n",
    "\n",
    "def multiple_dice_rolls(n, type='dice'): #options = dice or sum. sum gives total & dice gives both values\n",
    "    rolls = []\n",
    "    for i in range(0,n):\n",
    "        if type == 'sum':\n",
    "            roll = roll_dice()\n",
    "            rolls.append( roll[0] + roll[1] )\n",
    "        else:\n",
    "            rolls.append(roll_dice())\n",
    "    return rolls"
   ]
  },
  {
   "cell_type": "code",
   "execution_count": 20,
   "metadata": {},
   "outputs": [
    {
     "data": {
      "text/plain": [
       "(array([ 275.,  550.,  787., 1143., 1386., 1727., 1415., 1131.,  768.,\n",
       "         538.,  280.]),\n",
       " array([ 2.        ,  2.90909091,  3.81818182,  4.72727273,  5.63636364,\n",
       "         6.54545455,  7.45454545,  8.36363636,  9.27272727, 10.18181818,\n",
       "        11.09090909, 12.        ]),\n",
       " <a list of 11 Patch objects>)"
      ]
     },
     "execution_count": 20,
     "metadata": {},
     "output_type": "execute_result"
    },
    {
     "data": {
      "image/png": "[encoded data removed]",
      "text/plain": [
       "<Figure size 432x288 with 1 Axes>"
      ]
     },
     "metadata": {},
     "output_type": "display_data"
    }
   ],
   "source": [
    "rolls = multiple_dice_rolls(10000, type='sum')\n",
    "#print(rolls)\n",
    "\n",
    "plt.pyplot.hist(rolls, bins=11)"
   ]
  }
 ],
 "metadata": {
  "kernelspec": {
   "display_name": "Python 3",
   "language": "python",
   "name": "python3"
  },
  "language_info": {
   "codemirror_mode": {
    "name": "ipython",
    "version": 3
   },
   "file_extension": ".py",
   "mimetype": "text/x-python",
   "name": "python",
   "nbconvert_exporter": "python",
   "pygments_lexer": "ipython3",
   "version": "3.6.4"
  }
 },
 "nbformat": 4,
 "nbformat_minor": 2
}
